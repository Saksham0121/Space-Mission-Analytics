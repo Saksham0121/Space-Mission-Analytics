{
  "cells": [
    {
      "cell_type": "markdown",
      "metadata": {},
      "source": [
        "Import Required libraries"
      ]
    },
    {
      "cell_type": "code",
      "execution_count": 21,
      "metadata": {
        "id": "VhmUIMKKPq-v"
      },
      "outputs": [],
      "source": [
        "import pandas as pd\n",
        "import matplotlib.pyplot as plt\n",
        "import seaborn as sns"
      ]
    },
    {
      "cell_type": "markdown",
      "metadata": {
        "id": "R8akhR0PdB6_"
      },
      "source": [
        "Data Preprocessing"
      ]
    },
    {
      "cell_type": "code",
      "execution_count": 2,
      "metadata": {
        "id": "Pw45N99BQN4R"
      },
      "outputs": [],
      "source": [
        "df = pd.read_csv('space_mission_data.csv')"
      ]
    },
    {
      "cell_type": "markdown",
      "metadata": {
        "id": "KtXp8wurtpkI"
      },
      "source": [
        "Printing first five rows"
      ]
    },
    {
      "cell_type": "code",
      "execution_count": 3,
      "metadata": {
        "colab": {
          "base_uri": "https://localhost:8080/",
          "height": 310
        },
        "id": "0hQH-UiHQSJB",
        "outputId": "4b81a95f-efff-4d85-b581-51eecab6f3af"
      },
      "outputs": [
        {
          "data": {
            "text/html": [
              "<div>\n",
              "<style scoped>\n",
              "    .dataframe tbody tr th:only-of-type {\n",
              "        vertical-align: middle;\n",
              "    }\n",
              "\n",
              "    .dataframe tbody tr th {\n",
              "        vertical-align: top;\n",
              "    }\n",
              "\n",
              "    .dataframe thead th {\n",
              "        text-align: right;\n",
              "    }\n",
              "</style>\n",
              "<table border=\"1\" class=\"dataframe\">\n",
              "  <thead>\n",
              "    <tr style=\"text-align: right;\">\n",
              "      <th></th>\n",
              "      <th>Unnamed: 0</th>\n",
              "      <th>Organisation</th>\n",
              "      <th>Location</th>\n",
              "      <th>Date</th>\n",
              "      <th>Detail</th>\n",
              "      <th>Rocket_Status</th>\n",
              "      <th>Price</th>\n",
              "      <th>Mission_Status</th>\n",
              "    </tr>\n",
              "  </thead>\n",
              "  <tbody>\n",
              "    <tr>\n",
              "      <th>0</th>\n",
              "      <td>0</td>\n",
              "      <td>SpaceX</td>\n",
              "      <td>LC-39A, Kennedy Space Center, Florida, USA</td>\n",
              "      <td>Fri Aug 07, 2020 05:12 UTC</td>\n",
              "      <td>Falcon 9 Block 5 | Starlink V1 L9 &amp; BlackSky</td>\n",
              "      <td>StatusActive</td>\n",
              "      <td>50.0</td>\n",
              "      <td>Success</td>\n",
              "    </tr>\n",
              "    <tr>\n",
              "      <th>1</th>\n",
              "      <td>1</td>\n",
              "      <td>CASC</td>\n",
              "      <td>Site 9401 (SLS-2), Jiuquan Satellite Launch Ce...</td>\n",
              "      <td>Thu Aug 06, 2020 04:01 UTC</td>\n",
              "      <td>Long March 2D | Gaofen-9 04 &amp; Q-SAT</td>\n",
              "      <td>StatusActive</td>\n",
              "      <td>29.75</td>\n",
              "      <td>Success</td>\n",
              "    </tr>\n",
              "    <tr>\n",
              "      <th>2</th>\n",
              "      <td>2</td>\n",
              "      <td>SpaceX</td>\n",
              "      <td>Pad A, Boca Chica, Texas, USA</td>\n",
              "      <td>Tue Aug 04, 2020 23:57 UTC</td>\n",
              "      <td>Starship Prototype | 150 Meter Hop</td>\n",
              "      <td>StatusActive</td>\n",
              "      <td>NaN</td>\n",
              "      <td>Success</td>\n",
              "    </tr>\n",
              "    <tr>\n",
              "      <th>3</th>\n",
              "      <td>3</td>\n",
              "      <td>Roscosmos</td>\n",
              "      <td>Site 200/39, Baikonur Cosmodrome, Kazakhstan</td>\n",
              "      <td>Thu Jul 30, 2020 21:25 UTC</td>\n",
              "      <td>Proton-M/Briz-M | Ekspress-80 &amp; Ekspress-103</td>\n",
              "      <td>StatusActive</td>\n",
              "      <td>65.0</td>\n",
              "      <td>Success</td>\n",
              "    </tr>\n",
              "    <tr>\n",
              "      <th>4</th>\n",
              "      <td>4</td>\n",
              "      <td>ULA</td>\n",
              "      <td>SLC-41, Cape Canaveral AFS, Florida, USA</td>\n",
              "      <td>Thu Jul 30, 2020 11:50 UTC</td>\n",
              "      <td>Atlas V 541 | Perseverance</td>\n",
              "      <td>StatusActive</td>\n",
              "      <td>145.0</td>\n",
              "      <td>Success</td>\n",
              "    </tr>\n",
              "  </tbody>\n",
              "</table>\n",
              "</div>"
            ],
            "text/plain": [
              "   Unnamed: 0 Organisation                                           Location  \\\n",
              "0           0       SpaceX         LC-39A, Kennedy Space Center, Florida, USA   \n",
              "1           1         CASC  Site 9401 (SLS-2), Jiuquan Satellite Launch Ce...   \n",
              "2           2       SpaceX                      Pad A, Boca Chica, Texas, USA   \n",
              "3           3    Roscosmos       Site 200/39, Baikonur Cosmodrome, Kazakhstan   \n",
              "4           4          ULA           SLC-41, Cape Canaveral AFS, Florida, USA   \n",
              "\n",
              "                         Date                                        Detail  \\\n",
              "0  Fri Aug 07, 2020 05:12 UTC  Falcon 9 Block 5 | Starlink V1 L9 & BlackSky   \n",
              "1  Thu Aug 06, 2020 04:01 UTC           Long March 2D | Gaofen-9 04 & Q-SAT   \n",
              "2  Tue Aug 04, 2020 23:57 UTC            Starship Prototype | 150 Meter Hop   \n",
              "3  Thu Jul 30, 2020 21:25 UTC  Proton-M/Briz-M | Ekspress-80 & Ekspress-103   \n",
              "4  Thu Jul 30, 2020 11:50 UTC                    Atlas V 541 | Perseverance   \n",
              "\n",
              "  Rocket_Status  Price Mission_Status  \n",
              "0  StatusActive   50.0        Success  \n",
              "1  StatusActive  29.75        Success  \n",
              "2  StatusActive    NaN        Success  \n",
              "3  StatusActive   65.0        Success  \n",
              "4  StatusActive  145.0        Success  "
            ]
          },
          "execution_count": 3,
          "metadata": {},
          "output_type": "execute_result"
        }
      ],
      "source": [
        "df.head()"
      ]
    },
    {
      "cell_type": "code",
      "execution_count": 4,
      "metadata": {
        "colab": {
          "base_uri": "https://localhost:8080/"
        },
        "id": "QhpV2EFEQVKU",
        "outputId": "dc3ec967-6015-4cbe-a91b-d9a3cf2766d2"
      },
      "outputs": [
        {
          "name": "stdout",
          "output_type": "stream",
          "text": [
            "<class 'pandas.core.frame.DataFrame'>\n",
            "Index: 4324 entries, 0 to 4323\n",
            "Data columns (total 8 columns):\n",
            " #   Column          Non-Null Count  Dtype \n",
            "---  ------          --------------  ----- \n",
            " 0   Unnamed: 0      4324 non-null   int64 \n",
            " 1   Organisation    4324 non-null   object\n",
            " 2   Location        4324 non-null   object\n",
            " 3   Date            4324 non-null   object\n",
            " 4   Detail          4324 non-null   object\n",
            " 5   Rocket_Status   4324 non-null   object\n",
            " 6   Price           964 non-null    object\n",
            " 7   Mission_Status  4324 non-null   object\n",
            "dtypes: int64(1), object(7)\n",
            "memory usage: 304.0+ KB\n"
          ]
        }
      ],
      "source": [
        "df.info()"
      ]
    },
    {
      "cell_type": "markdown",
      "metadata": {
        "id": "Qn2PgFTatlsg"
      },
      "source": [
        "Checking for null values"
      ]
    },
    {
      "cell_type": "code",
      "execution_count": 5,
      "metadata": {
        "colab": {
          "base_uri": "https://localhost:8080/",
          "height": 366
        },
        "id": "487_9Vp-QkBe",
        "outputId": "91d95614-d922-4924-e1b2-a715989fb8d9"
      },
      "outputs": [
        {
          "data": {
            "text/plain": [
              "Unnamed: 0           0\n",
              "Organisation         0\n",
              "Location             0\n",
              "Date                 0\n",
              "Detail               0\n",
              "Rocket_Status        0\n",
              "Price             3360\n",
              "Mission_Status       0\n",
              "dtype: int64"
            ]
          },
          "execution_count": 5,
          "metadata": {},
          "output_type": "execute_result"
        }
      ],
      "source": [
        "df.isnull().sum()"
      ]
    },
    {
      "cell_type": "markdown",
      "metadata": {
        "id": "aP4X2k4mteq0"
      },
      "source": [
        "Drop columns 'Unnamed: 0' and 'Unnamed: 0.1'"
      ]
    },
    {
      "cell_type": "code",
      "execution_count": 6,
      "metadata": {
        "id": "qMQcPOVoQ3SP"
      },
      "outputs": [],
      "source": [
        "df = df.drop(columns=[col for col in ['Unnamed: 0', 'Unnamed: 0.1'] if col in df.columns])"
      ]
    },
    {
      "cell_type": "code",
      "execution_count": 7,
      "metadata": {
        "colab": {
          "base_uri": "https://localhost:8080/",
          "height": 293
        },
        "id": "yFZ0dTdmewV9",
        "outputId": "6319afcf-4a19-44f1-af92-e1686af2da57"
      },
      "outputs": [
        {
          "data": {
            "text/html": [
              "<div>\n",
              "<style scoped>\n",
              "    .dataframe tbody tr th:only-of-type {\n",
              "        vertical-align: middle;\n",
              "    }\n",
              "\n",
              "    .dataframe tbody tr th {\n",
              "        vertical-align: top;\n",
              "    }\n",
              "\n",
              "    .dataframe thead th {\n",
              "        text-align: right;\n",
              "    }\n",
              "</style>\n",
              "<table border=\"1\" class=\"dataframe\">\n",
              "  <thead>\n",
              "    <tr style=\"text-align: right;\">\n",
              "      <th></th>\n",
              "      <th>Organisation</th>\n",
              "      <th>Location</th>\n",
              "      <th>Date</th>\n",
              "      <th>Detail</th>\n",
              "      <th>Rocket_Status</th>\n",
              "      <th>Price</th>\n",
              "      <th>Mission_Status</th>\n",
              "    </tr>\n",
              "  </thead>\n",
              "  <tbody>\n",
              "    <tr>\n",
              "      <th>0</th>\n",
              "      <td>SpaceX</td>\n",
              "      <td>LC-39A, Kennedy Space Center, Florida, USA</td>\n",
              "      <td>Fri Aug 07, 2020 05:12 UTC</td>\n",
              "      <td>Falcon 9 Block 5 | Starlink V1 L9 &amp; BlackSky</td>\n",
              "      <td>StatusActive</td>\n",
              "      <td>50.0</td>\n",
              "      <td>Success</td>\n",
              "    </tr>\n",
              "    <tr>\n",
              "      <th>1</th>\n",
              "      <td>CASC</td>\n",
              "      <td>Site 9401 (SLS-2), Jiuquan Satellite Launch Ce...</td>\n",
              "      <td>Thu Aug 06, 2020 04:01 UTC</td>\n",
              "      <td>Long March 2D | Gaofen-9 04 &amp; Q-SAT</td>\n",
              "      <td>StatusActive</td>\n",
              "      <td>29.75</td>\n",
              "      <td>Success</td>\n",
              "    </tr>\n",
              "    <tr>\n",
              "      <th>2</th>\n",
              "      <td>SpaceX</td>\n",
              "      <td>Pad A, Boca Chica, Texas, USA</td>\n",
              "      <td>Tue Aug 04, 2020 23:57 UTC</td>\n",
              "      <td>Starship Prototype | 150 Meter Hop</td>\n",
              "      <td>StatusActive</td>\n",
              "      <td>NaN</td>\n",
              "      <td>Success</td>\n",
              "    </tr>\n",
              "    <tr>\n",
              "      <th>3</th>\n",
              "      <td>Roscosmos</td>\n",
              "      <td>Site 200/39, Baikonur Cosmodrome, Kazakhstan</td>\n",
              "      <td>Thu Jul 30, 2020 21:25 UTC</td>\n",
              "      <td>Proton-M/Briz-M | Ekspress-80 &amp; Ekspress-103</td>\n",
              "      <td>StatusActive</td>\n",
              "      <td>65.0</td>\n",
              "      <td>Success</td>\n",
              "    </tr>\n",
              "    <tr>\n",
              "      <th>4</th>\n",
              "      <td>ULA</td>\n",
              "      <td>SLC-41, Cape Canaveral AFS, Florida, USA</td>\n",
              "      <td>Thu Jul 30, 2020 11:50 UTC</td>\n",
              "      <td>Atlas V 541 | Perseverance</td>\n",
              "      <td>StatusActive</td>\n",
              "      <td>145.0</td>\n",
              "      <td>Success</td>\n",
              "    </tr>\n",
              "  </tbody>\n",
              "</table>\n",
              "</div>"
            ],
            "text/plain": [
              "  Organisation                                           Location  \\\n",
              "0       SpaceX         LC-39A, Kennedy Space Center, Florida, USA   \n",
              "1         CASC  Site 9401 (SLS-2), Jiuquan Satellite Launch Ce...   \n",
              "2       SpaceX                      Pad A, Boca Chica, Texas, USA   \n",
              "3    Roscosmos       Site 200/39, Baikonur Cosmodrome, Kazakhstan   \n",
              "4          ULA           SLC-41, Cape Canaveral AFS, Florida, USA   \n",
              "\n",
              "                         Date                                        Detail  \\\n",
              "0  Fri Aug 07, 2020 05:12 UTC  Falcon 9 Block 5 | Starlink V1 L9 & BlackSky   \n",
              "1  Thu Aug 06, 2020 04:01 UTC           Long March 2D | Gaofen-9 04 & Q-SAT   \n",
              "2  Tue Aug 04, 2020 23:57 UTC            Starship Prototype | 150 Meter Hop   \n",
              "3  Thu Jul 30, 2020 21:25 UTC  Proton-M/Briz-M | Ekspress-80 & Ekspress-103   \n",
              "4  Thu Jul 30, 2020 11:50 UTC                    Atlas V 541 | Perseverance   \n",
              "\n",
              "  Rocket_Status  Price Mission_Status  \n",
              "0  StatusActive   50.0        Success  \n",
              "1  StatusActive  29.75        Success  \n",
              "2  StatusActive    NaN        Success  \n",
              "3  StatusActive   65.0        Success  \n",
              "4  StatusActive  145.0        Success  "
            ]
          },
          "execution_count": 7,
          "metadata": {},
          "output_type": "execute_result"
        }
      ],
      "source": [
        "df.head()"
      ]
    },
    {
      "cell_type": "markdown",
      "metadata": {
        "id": "vWMfm07ntwZW"
      },
      "source": [
        "Convert Date to datetime so that month and year can be extracted from it for analysis"
      ]
    },
    {
      "cell_type": "code",
      "execution_count": 8,
      "metadata": {
        "id": "2P8bj2rWezk1"
      },
      "outputs": [],
      "source": [
        "\n",
        "# Convert to datetime with UTC-aware parsing\n",
        "df['Date'] = pd.to_datetime(df['Date'], errors='coerce', utc=True)\n",
        "\n",
        "# Remove timezone info to make it timezone-naive (required for dt access)\n",
        "df['Date'] = df['Date'].dt.tz_localize(None)\n",
        "\n",
        "# Now it's safe to extract Month and Year\n",
        "df['Month'] = df['Date'].dt.month_name()\n",
        "df['Year'] = df['Date'].dt.year\n"
      ]
    },
    {
      "cell_type": "code",
      "execution_count": 9,
      "metadata": {
        "colab": {
          "base_uri": "https://localhost:8080/"
        },
        "id": "Cv2RID13gEo0",
        "outputId": "b78fb28e-21f0-4a74-8e24-ac8e9efd591d"
      },
      "outputs": [
        {
          "name": "stdout",
          "output_type": "stream",
          "text": [
            "                                   Space_Centre_Name     Country\n",
            "0              LC-39A, Kennedy Space Center, Florida         USA\n",
            "1  Site 9401 (SLS-2), Jiuquan Satellite Launch Ce...       China\n",
            "2                           Pad A, Boca Chica, Texas         USA\n",
            "3                   Site 200/39, Baikonur Cosmodrome  Kazakhstan\n",
            "4                SLC-41, Cape Canaveral AFS, Florida         USA\n",
            "5              LC-9, Taiyuan Satellite Launch Center       China\n",
            "6                     Site 31/6, Baikonur Cosmodrome  Kazakhstan\n",
            "7           LC-101, Wenchang Satellite Launch Center       China\n",
            "8                SLC-40, Cape Canaveral AFS, Florida         USA\n",
            "9                    LA-Y1, Tanegashima Space Center       Japan\n"
          ]
        }
      ],
      "source": [
        "# Remove any leading/trailing whitespace from Location\n",
        "df['Location'] = df['Location'].astype(str).str.strip()\n",
        "\n",
        "# Extract country (last comma-separated value)\n",
        "df['Country'] = df['Location'].apply(lambda x: x.split(',')[-1].strip() if pd.notnull(x) else x)\n",
        "\n",
        "# Extract the rest of the location (everything except the country)\n",
        "df['Space_Centre_Name'] = df['Location'].apply(lambda x: ','.join(x.split(',')[:-1]).strip() if ',' in x else x)\n",
        "\n",
        "print(df[['Space_Centre_Name', 'Country']].head(10))"
      ]
    },
    {
      "cell_type": "markdown",
      "metadata": {
        "id": "akcGu4fBuHdU"
      },
      "source": [
        "Drop the 'location' column now"
      ]
    },
    {
      "cell_type": "code",
      "execution_count": 10,
      "metadata": {
        "id": "JJHZ91UkhI3r"
      },
      "outputs": [],
      "source": [
        "df = df.drop(columns=['Location'])"
      ]
    },
    {
      "cell_type": "markdown",
      "metadata": {
        "id": "xTxBw2YKuNeK"
      },
      "source": [
        "Convert datatype of Price column from Categorical to numeric"
      ]
    },
    {
      "cell_type": "code",
      "execution_count": 11,
      "metadata": {
        "id": "inrILK4jfdXW"
      },
      "outputs": [],
      "source": [
        "df['Price'] = pd.to_numeric(df['Price'], errors='coerce')"
      ]
    },
    {
      "cell_type": "code",
      "execution_count": 12,
      "metadata": {
        "colab": {
          "base_uri": "https://localhost:8080/",
          "height": 335
        },
        "id": "zxwR4_1-lkuh",
        "outputId": "9cfaef2a-5b16-4381-8d4c-1dcf62dd8be1"
      },
      "outputs": [
        {
          "data": {
            "text/plain": [
              "count    949.000000\n",
              "mean     129.795237\n",
              "std      143.220323\n",
              "min        5.300000\n",
              "25%       40.000000\n",
              "50%       62.000000\n",
              "75%      164.000000\n",
              "max      450.000000\n",
              "Name: Price, dtype: float64"
            ]
          },
          "execution_count": 12,
          "metadata": {},
          "output_type": "execute_result"
        }
      ],
      "source": [
        "df['Price'].describe()"
      ]
    },
    {
      "cell_type": "code",
      "execution_count": 13,
      "metadata": {
        "colab": {
          "base_uri": "https://localhost:8080/",
          "height": 447
        },
        "id": "kZv3YMsYmMZZ",
        "outputId": "a7732191-83d5-407c-b97f-93a14a0f4f30"
      },
      "outputs": [
        {
          "data": {
            "text/plain": [
              "<Axes: >"
            ]
          },
          "execution_count": 13,
          "metadata": {},
          "output_type": "execute_result"
        },
        {
          "data": {
            "image/png": "[encoded data removed]",
            "text/plain": [
              "<Figure size 640x480 with 1 Axes>"
            ]
          },
          "metadata": {},
          "output_type": "display_data"
        }
      ],
      "source": [
        "df['Price'].hist()"
      ]
    },
    {
      "cell_type": "markdown",
      "metadata": {
        "id": "7cXxHqLwpBUt"
      },
      "source": [
        "Price column is too much right skewed, so we will have to use median to fill null values"
      ]
    },
    {
      "cell_type": "code",
      "execution_count": 14,
      "metadata": {
        "colab": {
          "base_uri": "https://localhost:8080/"
        },
        "id": "Y_jc6cKFmP4M",
        "outputId": "4b4998a0-4c1d-4550-af51-47efb7613525"
      },
      "outputs": [
        {
          "data": {
            "text/plain": [
              "np.float64(1.5077937711635496)"
            ]
          },
          "execution_count": 14,
          "metadata": {},
          "output_type": "execute_result"
        }
      ],
      "source": [
        "df['Price'].skew()"
      ]
    },
    {
      "cell_type": "markdown",
      "metadata": {
        "id": "rr-QvG_ks4EH"
      },
      "source": [
        " Fill null values in 'Price' with the median price for each country by taking median of prices of each country separately."
      ]
    },
    {
      "cell_type": "code",
      "execution_count": 15,
      "metadata": {
        "id": "TUqlBIVmo7Uh"
      },
      "outputs": [
        {
          "name": "stderr",
          "output_type": "stream",
          "text": [
            "c:\\Users\\Mohd Kayes Ansari\\OneDrive\\Desktop\\Projects\\Space_Mission_Analysis\\.venv\\Lib\\site-packages\\numpy\\lib\\_nanfunctions_impl.py:1214: RuntimeWarning: Mean of empty slice\n",
            "  return np.nanmean(a, axis, out=out, keepdims=keepdims)\n",
            "c:\\Users\\Mohd Kayes Ansari\\OneDrive\\Desktop\\Projects\\Space_Mission_Analysis\\.venv\\Lib\\site-packages\\numpy\\lib\\_nanfunctions_impl.py:1214: RuntimeWarning: Mean of empty slice\n",
            "  return np.nanmean(a, axis, out=out, keepdims=keepdims)\n",
            "c:\\Users\\Mohd Kayes Ansari\\OneDrive\\Desktop\\Projects\\Space_Mission_Analysis\\.venv\\Lib\\site-packages\\numpy\\lib\\_nanfunctions_impl.py:1214: RuntimeWarning: Mean of empty slice\n",
            "  return np.nanmean(a, axis, out=out, keepdims=keepdims)\n",
            "c:\\Users\\Mohd Kayes Ansari\\OneDrive\\Desktop\\Projects\\Space_Mission_Analysis\\.venv\\Lib\\site-packages\\numpy\\lib\\_nanfunctions_impl.py:1214: RuntimeWarning: Mean of empty slice\n",
            "  return np.nanmean(a, axis, out=out, keepdims=keepdims)\n",
            "c:\\Users\\Mohd Kayes Ansari\\OneDrive\\Desktop\\Projects\\Space_Mission_Analysis\\.venv\\Lib\\site-packages\\numpy\\lib\\_nanfunctions_impl.py:1214: RuntimeWarning: Mean of empty slice\n",
            "  return np.nanmean(a, axis, out=out, keepdims=keepdims)\n",
            "c:\\Users\\Mohd Kayes Ansari\\OneDrive\\Desktop\\Projects\\Space_Mission_Analysis\\.venv\\Lib\\site-packages\\numpy\\lib\\_nanfunctions_impl.py:1214: RuntimeWarning: Mean of empty slice\n",
            "  return np.nanmean(a, axis, out=out, keepdims=keepdims)\n",
            "c:\\Users\\Mohd Kayes Ansari\\OneDrive\\Desktop\\Projects\\Space_Mission_Analysis\\.venv\\Lib\\site-packages\\numpy\\lib\\_nanfunctions_impl.py:1214: RuntimeWarning: Mean of empty slice\n",
            "  return np.nanmean(a, axis, out=out, keepdims=keepdims)\n",
            "c:\\Users\\Mohd Kayes Ansari\\OneDrive\\Desktop\\Projects\\Space_Mission_Analysis\\.venv\\Lib\\site-packages\\numpy\\lib\\_nanfunctions_impl.py:1214: RuntimeWarning: Mean of empty slice\n",
            "  return np.nanmean(a, axis, out=out, keepdims=keepdims)\n",
            "c:\\Users\\Mohd Kayes Ansari\\OneDrive\\Desktop\\Projects\\Space_Mission_Analysis\\.venv\\Lib\\site-packages\\numpy\\lib\\_nanfunctions_impl.py:1214: RuntimeWarning: Mean of empty slice\n",
            "  return np.nanmean(a, axis, out=out, keepdims=keepdims)\n",
            "c:\\Users\\Mohd Kayes Ansari\\OneDrive\\Desktop\\Projects\\Space_Mission_Analysis\\.venv\\Lib\\site-packages\\numpy\\lib\\_nanfunctions_impl.py:1214: RuntimeWarning: Mean of empty slice\n",
            "  return np.nanmean(a, axis, out=out, keepdims=keepdims)\n",
            "c:\\Users\\Mohd Kayes Ansari\\OneDrive\\Desktop\\Projects\\Space_Mission_Analysis\\.venv\\Lib\\site-packages\\numpy\\lib\\_nanfunctions_impl.py:1214: RuntimeWarning: Mean of empty slice\n",
            "  return np.nanmean(a, axis, out=out, keepdims=keepdims)\n"
          ]
        }
      ],
      "source": [
        "df['Price'] = df.groupby('Country')['Price'].transform(\n",
        "    lambda x: x.fillna(x.median())\n",
        ")"
      ]
    },
    {
      "cell_type": "code",
      "execution_count": 16,
      "metadata": {
        "colab": {
          "base_uri": "https://localhost:8080/"
        },
        "id": "7uYqPC4fq2Ta",
        "outputId": "533b9b26-8a21-4913-b826-ad0daf6d339d"
      },
      "outputs": [
        {
          "data": {
            "text/plain": [
              "np.int64(94)"
            ]
          },
          "execution_count": 16,
          "metadata": {},
          "output_type": "execute_result"
        }
      ],
      "source": [
        "df['Price'].isnull().sum()"
      ]
    },
    {
      "cell_type": "markdown",
      "metadata": {
        "id": "zWBYGoHysX2i"
      },
      "source": [
        "The remaining nulls are likely from countries where all or almost all Price values are missing, so the median for those countries is itself null and cannot be used to fill missing values.\n",
        "Hence, we will use overall median to fill those leftover 94 rows."
      ]
    },
    {
      "cell_type": "code",
      "execution_count": 17,
      "metadata": {
        "id": "SOuDQeO3ruer"
      },
      "outputs": [],
      "source": [
        "overall_median = df['Price'].median()\n",
        "df['Price'] = df['Price'].fillna(overall_median)"
      ]
    },
    {
      "cell_type": "code",
      "execution_count": 18,
      "metadata": {
        "colab": {
          "base_uri": "https://localhost:8080/"
        },
        "id": "MOb5Yn4Ysv7B",
        "outputId": "f3259832-0e07-48ce-fc1b-b38f90774314"
      },
      "outputs": [
        {
          "data": {
            "text/plain": [
              "np.int64(0)"
            ]
          },
          "execution_count": 18,
          "metadata": {},
          "output_type": "execute_result"
        }
      ],
      "source": [
        "df['Price'].isnull().sum()"
      ]
    },
    {
      "cell_type": "code",
      "execution_count": 19,
      "metadata": {},
      "outputs": [
        {
          "data": {
            "text/html": [
              "<div>\n",
              "<style scoped>\n",
              "    .dataframe tbody tr th:only-of-type {\n",
              "        vertical-align: middle;\n",
              "    }\n",
              "\n",
              "    .dataframe tbody tr th {\n",
              "        vertical-align: top;\n",
              "    }\n",
              "\n",
              "    .dataframe thead th {\n",
              "        text-align: right;\n",
              "    }\n",
              "</style>\n",
              "<table border=\"1\" class=\"dataframe\">\n",
              "  <thead>\n",
              "    <tr style=\"text-align: right;\">\n",
              "      <th></th>\n",
              "      <th>Organisation</th>\n",
              "      <th>Date</th>\n",
              "      <th>Detail</th>\n",
              "      <th>Rocket_Status</th>\n",
              "      <th>Price</th>\n",
              "      <th>Mission_Status</th>\n",
              "      <th>Month</th>\n",
              "      <th>Year</th>\n",
              "      <th>Country</th>\n",
              "      <th>Space_Centre_Name</th>\n",
              "    </tr>\n",
              "  </thead>\n",
              "  <tbody>\n",
              "    <tr>\n",
              "      <th>0</th>\n",
              "      <td>SpaceX</td>\n",
              "      <td>2020-08-07 05:12:00</td>\n",
              "      <td>Falcon 9 Block 5 | Starlink V1 L9 &amp; BlackSky</td>\n",
              "      <td>StatusActive</td>\n",
              "      <td>50.00</td>\n",
              "      <td>Success</td>\n",
              "      <td>August</td>\n",
              "      <td>2020.0</td>\n",
              "      <td>USA</td>\n",
              "      <td>LC-39A, Kennedy Space Center, Florida</td>\n",
              "    </tr>\n",
              "    <tr>\n",
              "      <th>1</th>\n",
              "      <td>CASC</td>\n",
              "      <td>2020-08-06 04:01:00</td>\n",
              "      <td>Long March 2D | Gaofen-9 04 &amp; Q-SAT</td>\n",
              "      <td>StatusActive</td>\n",
              "      <td>29.75</td>\n",
              "      <td>Success</td>\n",
              "      <td>August</td>\n",
              "      <td>2020.0</td>\n",
              "      <td>China</td>\n",
              "      <td>Site 9401 (SLS-2), Jiuquan Satellite Launch Ce...</td>\n",
              "    </tr>\n",
              "    <tr>\n",
              "      <th>2</th>\n",
              "      <td>SpaceX</td>\n",
              "      <td>2020-08-04 23:57:00</td>\n",
              "      <td>Starship Prototype | 150 Meter Hop</td>\n",
              "      <td>StatusActive</td>\n",
              "      <td>109.00</td>\n",
              "      <td>Success</td>\n",
              "      <td>August</td>\n",
              "      <td>2020.0</td>\n",
              "      <td>USA</td>\n",
              "      <td>Pad A, Boca Chica, Texas</td>\n",
              "    </tr>\n",
              "    <tr>\n",
              "      <th>3</th>\n",
              "      <td>Roscosmos</td>\n",
              "      <td>2020-07-30 21:25:00</td>\n",
              "      <td>Proton-M/Briz-M | Ekspress-80 &amp; Ekspress-103</td>\n",
              "      <td>StatusActive</td>\n",
              "      <td>65.00</td>\n",
              "      <td>Success</td>\n",
              "      <td>July</td>\n",
              "      <td>2020.0</td>\n",
              "      <td>Kazakhstan</td>\n",
              "      <td>Site 200/39, Baikonur Cosmodrome</td>\n",
              "    </tr>\n",
              "    <tr>\n",
              "      <th>4</th>\n",
              "      <td>ULA</td>\n",
              "      <td>2020-07-30 11:50:00</td>\n",
              "      <td>Atlas V 541 | Perseverance</td>\n",
              "      <td>StatusActive</td>\n",
              "      <td>145.00</td>\n",
              "      <td>Success</td>\n",
              "      <td>July</td>\n",
              "      <td>2020.0</td>\n",
              "      <td>USA</td>\n",
              "      <td>SLC-41, Cape Canaveral AFS, Florida</td>\n",
              "    </tr>\n",
              "  </tbody>\n",
              "</table>\n",
              "</div>"
            ],
            "text/plain": [
              "  Organisation                Date  \\\n",
              "0       SpaceX 2020-08-07 05:12:00   \n",
              "1         CASC 2020-08-06 04:01:00   \n",
              "2       SpaceX 2020-08-04 23:57:00   \n",
              "3    Roscosmos 2020-07-30 21:25:00   \n",
              "4          ULA 2020-07-30 11:50:00   \n",
              "\n",
              "                                         Detail Rocket_Status   Price  \\\n",
              "0  Falcon 9 Block 5 | Starlink V1 L9 & BlackSky  StatusActive   50.00   \n",
              "1           Long March 2D | Gaofen-9 04 & Q-SAT  StatusActive   29.75   \n",
              "2            Starship Prototype | 150 Meter Hop  StatusActive  109.00   \n",
              "3  Proton-M/Briz-M | Ekspress-80 & Ekspress-103  StatusActive   65.00   \n",
              "4                    Atlas V 541 | Perseverance  StatusActive  145.00   \n",
              "\n",
              "  Mission_Status   Month    Year     Country  \\\n",
              "0        Success  August  2020.0         USA   \n",
              "1        Success  August  2020.0       China   \n",
              "2        Success  August  2020.0         USA   \n",
              "3        Success    July  2020.0  Kazakhstan   \n",
              "4        Success    July  2020.0         USA   \n",
              "\n",
              "                                   Space_Centre_Name  \n",
              "0              LC-39A, Kennedy Space Center, Florida  \n",
              "1  Site 9401 (SLS-2), Jiuquan Satellite Launch Ce...  \n",
              "2                           Pad A, Boca Chica, Texas  \n",
              "3                   Site 200/39, Baikonur Cosmodrome  \n",
              "4                SLC-41, Cape Canaveral AFS, Florida  "
            ]
          },
          "execution_count": 19,
          "metadata": {},
          "output_type": "execute_result"
        }
      ],
      "source": [
        "df.head()"
      ]
    },
    {
      "cell_type": "code",
      "execution_count": 20,
      "metadata": {},
      "outputs": [],
      "source": [
        "df.to_csv(\"space_mission_data_cleaned.csv\", index=False)\n"
      ]
    },
    {
      "cell_type": "code",
      "execution_count": null,
      "metadata": {},
      "outputs": [],
      "source": []
    }
  ],
  "metadata": {
    "colab": {
      "provenance": []
    },
    "kernelspec": {
      "display_name": ".venv",
      "language": "python",
      "name": "python3"
    },
    "language_info": {
      "codemirror_mode": {
        "name": "ipython",
        "version": 3
      },
      "file_extension": ".py",
      "mimetype": "text/x-python",
      "name": "python",
      "nbconvert_exporter": "python",
      "pygments_lexer": "ipython3",
      "version": "3.13.2"
    }
  },
  "nbformat": 4,
  "nbformat_minor": 0
}
